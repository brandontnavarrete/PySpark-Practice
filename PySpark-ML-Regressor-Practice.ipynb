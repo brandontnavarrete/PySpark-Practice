{
 "cells": [
  {
   "cell_type": "markdown",
   "id": "23da2bdd",
   "metadata": {},
   "source": [
    "# import"
   ]
  },
  {
   "cell_type": "code",
   "execution_count": 3,
   "id": "5bf3345c",
   "metadata": {},
   "outputs": [],
   "source": [
    "import pyspark\n",
    "from pyspark.sql import SparkSession"
   ]
  },
  {
   "cell_type": "markdown",
   "id": "2546948a",
   "metadata": {},
   "source": [
    "# session"
   ]
  },
  {
   "cell_type": "code",
   "execution_count": 4,
   "id": "e2648c5d",
   "metadata": {},
   "outputs": [
    {
     "name": "stderr",
     "output_type": "stream",
     "text": [
      "Setting default log level to \"WARN\".\n",
      "To adjust logging level use sc.setLogLevel(newLevel). For SparkR, use setLogLevel(newLevel).\n"
     ]
    },
    {
     "name": "stdout",
     "output_type": "stream",
     "text": [
      "23/04/22 23:17:40 WARN NativeCodeLoader: Unable to load native-hadoop library for your platform... using builtin-java classes where applicable\n",
      "23/04/22 23:17:42 WARN Utils: Service 'SparkUI' could not bind on port 4040. Attempting port 4041.\n",
      "23/04/22 23:17:42 WARN Utils: Service 'SparkUI' could not bind on port 4041. Attempting port 4042.\n",
      "23/04/22 23:17:42 WARN Utils: Service 'SparkUI' could not bind on port 4042. Attempting port 4043.\n"
     ]
    }
   ],
   "source": [
    "# creating sessoin\n",
    "spark = SparkSession.builder.appName('practice').getOrCreate()"
   ]
  },
  {
   "cell_type": "markdown",
   "id": "b0548462",
   "metadata": {},
   "source": [
    "# data"
   ]
  },
  {
   "cell_type": "code",
   "execution_count": 8,
   "id": "37c838bb",
   "metadata": {},
   "outputs": [
    {
     "name": "stdout",
     "output_type": "stream",
     "text": [
      "+-------+----+------+---------+\n",
      "|Country| Age|Salary|Purchased|\n",
      "+-------+----+------+---------+\n",
      "| France|  44| 72000|       No|\n",
      "|  Spain|  27| 48000|      Yes|\n",
      "|Germany|  30| 54000|       No|\n",
      "|  Spain|  38| 61000|       No|\n",
      "|Germany|  40|  null|      Yes|\n",
      "| France|  35| 58000|      Yes|\n",
      "|  Spain|null| 52000|       No|\n",
      "| France|  48| 79000|      Yes|\n",
      "|Germany|  50| 83000|       No|\n",
      "| France|  37| 67000|      Yes|\n",
      "+-------+----+------+---------+\n",
      "\n"
     ]
    }
   ],
   "source": [
    "#  read data                                                       #infer schema prevent all values automatically taking 'string' values\n",
    "df = spark.read.option('header','true').csv('data.csv', inferSchema= True)\n",
    "\n",
    "df.show()"
   ]
  },
  {
   "cell_type": "code",
   "execution_count": 11,
   "id": "fa6d88c2",
   "metadata": {},
   "outputs": [
    {
     "name": "stdout",
     "output_type": "stream",
     "text": [
      "root\n",
      " |-- Country: string (nullable = true)\n",
      " |-- Age: integer (nullable = true)\n",
      " |-- Salary: integer (nullable = true)\n",
      " |-- Purchased: string (nullable = true)\n",
      "\n"
     ]
    }
   ],
   "source": [
    "df.printSchema()"
   ]
  },
  {
   "cell_type": "code",
   "execution_count": 9,
   "id": "7863261d",
   "metadata": {},
   "outputs": [],
   "source": [
    "# drop where null\n",
    "df = df.na.drop()"
   ]
  },
  {
   "cell_type": "code",
   "execution_count": 85,
   "id": "ca486c15",
   "metadata": {},
   "outputs": [],
   "source": [
    "# \n",
    "from pyspark.sql.functions import lit\n",
    "# \n",
    "\n",
    "df = df.withColumn(\"height\", lit(40))\n",
    "# \n",
    "df = df.withColumn(\"height\", df[\"height\"] + df[\"Age\"])"
   ]
  },
  {
   "cell_type": "code",
   "execution_count": 87,
   "id": "cfdbc024",
   "metadata": {},
   "outputs": [
    {
     "name": "stdout",
     "output_type": "stream",
     "text": [
      "+-------+---+------+---------+------+\n",
      "|Country|Age|Salary|Purchased|height|\n",
      "+-------+---+------+---------+------+\n",
      "| France| 44| 72000|       No|    84|\n",
      "|  Spain| 27| 48000|      Yes|    67|\n",
      "|Germany| 30| 54000|       No|    70|\n",
      "|  Spain| 38| 61000|       No|    78|\n",
      "| France| 35| 58000|      Yes|    75|\n",
      "| France| 48| 79000|      Yes|    88|\n",
      "|Germany| 50| 83000|       No|    90|\n",
      "| France| 37| 67000|      Yes|    77|\n",
      "+-------+---+------+---------+------+\n",
      "\n"
     ]
    }
   ],
   "source": [
    "df.show()"
   ]
  },
  {
   "cell_type": "markdown",
   "id": "b01f0dc2",
   "metadata": {},
   "source": [
    "# PySpark ML methods"
   ]
  },
  {
   "cell_type": "code",
   "execution_count": null,
   "id": "9e6f7887",
   "metadata": {},
   "outputs": [],
   "source": [
    "# just using numericals for now\n",
    "# [Age,Salary]"
   ]
  },
  {
   "cell_type": "code",
   "execution_count": null,
   "id": "898192ed",
   "metadata": {},
   "outputs": [],
   "source": []
  },
  {
   "cell_type": "code",
   "execution_count": 88,
   "id": "3ddef5af",
   "metadata": {},
   "outputs": [],
   "source": [
    "# create vector assembler\n",
    "from pyspark.ml.feature import VectorAssembler \n",
    "\n",
    "# create instance with parameters\n",
    "featureassembler = VectorAssembler(inputCols=['Age','height'], outputCol='independentVar')\n"
   ]
  },
  {
   "cell_type": "code",
   "execution_count": 89,
   "id": "ea670b25",
   "metadata": {},
   "outputs": [],
   "source": [
    "# transform the df\n",
    "output = featureassembler.transform(df)"
   ]
  },
  {
   "cell_type": "code",
   "execution_count": 90,
   "id": "ac5382c2",
   "metadata": {},
   "outputs": [
    {
     "name": "stdout",
     "output_type": "stream",
     "text": [
      "+-------+---+------+---------+------+--------------+\n",
      "|Country|Age|Salary|Purchased|height|independentVar|\n",
      "+-------+---+------+---------+------+--------------+\n",
      "| France| 44| 72000|       No|    84|   [44.0,84.0]|\n",
      "|  Spain| 27| 48000|      Yes|    67|   [27.0,67.0]|\n",
      "|Germany| 30| 54000|       No|    70|   [30.0,70.0]|\n",
      "|  Spain| 38| 61000|       No|    78|   [38.0,78.0]|\n",
      "| France| 35| 58000|      Yes|    75|   [35.0,75.0]|\n",
      "| France| 48| 79000|      Yes|    88|   [48.0,88.0]|\n",
      "|Germany| 50| 83000|       No|    90|   [50.0,90.0]|\n",
      "| France| 37| 67000|      Yes|    77|   [37.0,77.0]|\n",
      "+-------+---+------+---------+------+--------------+\n",
      "\n"
     ]
    }
   ],
   "source": [
    "output.show()"
   ]
  },
  {
   "cell_type": "code",
   "execution_count": 91,
   "id": "562ce1ea",
   "metadata": {},
   "outputs": [],
   "source": [
    "# select the DV and new column for model\n",
    "final_data = output.select('independentVar','Salary')"
   ]
  },
  {
   "cell_type": "code",
   "execution_count": 92,
   "id": "99e25185",
   "metadata": {},
   "outputs": [
    {
     "name": "stdout",
     "output_type": "stream",
     "text": [
      "+--------------+------+\n",
      "|independentVar|Salary|\n",
      "+--------------+------+\n",
      "|   [44.0,84.0]| 72000|\n",
      "|   [27.0,67.0]| 48000|\n",
      "|   [30.0,70.0]| 54000|\n",
      "|   [38.0,78.0]| 61000|\n",
      "|   [35.0,75.0]| 58000|\n",
      "|   [48.0,88.0]| 79000|\n",
      "|   [50.0,90.0]| 83000|\n",
      "|   [37.0,77.0]| 67000|\n",
      "+--------------+------+\n",
      "\n"
     ]
    }
   ],
   "source": [
    "final_data.show()"
   ]
  },
  {
   "cell_type": "markdown",
   "id": "376ed2cb",
   "metadata": {},
   "source": [
    "# Linear Regression"
   ]
  },
  {
   "cell_type": "code",
   "execution_count": 93,
   "id": "5f48ceba",
   "metadata": {},
   "outputs": [],
   "source": [
    "# import regressor model\n",
    "from pyspark.ml.regression import LinearRegression\n",
    "# split data for future data\n",
    "train_data, test_data = final_data.randomSplit([0.75,0.25])"
   ]
  },
  {
   "cell_type": "code",
   "execution_count": 94,
   "id": "ad04ecd0",
   "metadata": {},
   "outputs": [],
   "source": [
    "# create model, determine indVars and dVars\n",
    "regressor = LinearRegression(featuresCol= \"independentVar\", labelCol = 'Salary')"
   ]
  },
  {
   "cell_type": "code",
   "execution_count": 95,
   "id": "98d2f74d",
   "metadata": {},
   "outputs": [
    {
     "name": "stdout",
     "output_type": "stream",
     "text": [
      "23/04/22 23:43:32 WARN Instrumentation: [fee0e39e] regParam is zero, which might cause numerical instability and overfitting.\n"
     ]
    }
   ],
   "source": [
    "# fit model to training data\n",
    "regressor = regressor.fit(train_data)"
   ]
  },
  {
   "cell_type": "markdown",
   "id": "603138c5",
   "metadata": {},
   "source": [
    "# Coefficients"
   ]
  },
  {
   "cell_type": "code",
   "execution_count": 96,
   "id": "f29782e2",
   "metadata": {},
   "outputs": [
    {
     "data": {
      "text/plain": [
       "DenseVector([916.0622, 200.3762])"
      ]
     },
     "execution_count": 96,
     "metadata": {},
     "output_type": "execute_result"
    }
   ],
   "source": [
    "# coeff's\n",
    "regressor.coefficients"
   ]
  },
  {
   "cell_type": "markdown",
   "id": "415f965f",
   "metadata": {},
   "source": [
    "# intercepts"
   ]
  },
  {
   "cell_type": "code",
   "execution_count": 97,
   "id": "002df136",
   "metadata": {},
   "outputs": [
    {
     "data": {
      "text/plain": [
       "10950.706312836628"
      ]
     },
     "execution_count": 97,
     "metadata": {},
     "output_type": "execute_result"
    }
   ],
   "source": [
    "# the intercept\n",
    "regressor.intercept"
   ]
  },
  {
   "cell_type": "markdown",
   "id": "d51300e4",
   "metadata": {},
   "source": [
    "# predictions"
   ]
  },
  {
   "cell_type": "code",
   "execution_count": 98,
   "id": "4a71ddc7",
   "metadata": {},
   "outputs": [
    {
     "name": "stdout",
     "output_type": "stream",
     "text": [
      "+--------------+------+\n",
      "|independentVar|Salary|\n",
      "+--------------+------+\n",
      "|   [37.0,77.0]| 67000|\n",
      "|   [44.0,84.0]| 72000|\n",
      "|   [48.0,88.0]| 79000|\n",
      "|   [50.0,90.0]| 83000|\n",
      "+--------------+------+\n",
      "\n"
     ]
    }
   ],
   "source": [
    "test_data.show()"
   ]
  },
  {
   "cell_type": "code",
   "execution_count": 99,
   "id": "aafbe90b",
   "metadata": {},
   "outputs": [],
   "source": [
    "# creating predictins\n",
    "preds = regressor.evaluate(test_data)"
   ]
  },
  {
   "cell_type": "code",
   "execution_count": 100,
   "id": "1d9e3c3a",
   "metadata": {},
   "outputs": [
    {
     "name": "stdout",
     "output_type": "stream",
     "text": [
      "+--------------+------+------------------+\n",
      "|independentVar|Salary|        prediction|\n",
      "+--------------+------+------------------+\n",
      "|   [37.0,77.0]| 67000|60273.972602739705|\n",
      "|   [44.0,84.0]| 72000| 68089.04109589034|\n",
      "|   [48.0,88.0]| 79000| 72554.79452054785|\n",
      "|   [50.0,90.0]| 83000|  74787.6712328766|\n",
      "+--------------+------+------------------+\n",
      "\n"
     ]
    }
   ],
   "source": [
    "# show predicts usings the .predictions to see how accurate the model was/\n",
    "preds.predictions.show()"
   ]
  },
  {
   "cell_type": "markdown",
   "id": "497f3054",
   "metadata": {},
   "source": [
    "# other evaluation metrics"
   ]
  },
  {
   "cell_type": "code",
   "execution_count": 103,
   "id": "f733d4f3",
   "metadata": {},
   "outputs": [
    {
     "data": {
      "text/plain": [
       "(6323.630136986378, 42379515.38750334)"
      ]
     },
     "execution_count": 103,
     "metadata": {},
     "output_type": "execute_result"
    }
   ],
   "source": [
    "preds.meanAbsoluteError , preds.meanSquaredError"
   ]
  },
  {
   "cell_type": "code",
   "execution_count": null,
   "id": "38256866",
   "metadata": {},
   "outputs": [],
   "source": []
  }
 ],
 "metadata": {
  "kernelspec": {
   "display_name": "Python 3 (ipykernel)",
   "language": "python",
   "name": "python3"
  },
  "language_info": {
   "codemirror_mode": {
    "name": "ipython",
    "version": 3
   },
   "file_extension": ".py",
   "mimetype": "text/x-python",
   "name": "python",
   "nbconvert_exporter": "python",
   "pygments_lexer": "ipython3",
   "version": "3.9.13"
  }
 },
 "nbformat": 4,
 "nbformat_minor": 5
}
