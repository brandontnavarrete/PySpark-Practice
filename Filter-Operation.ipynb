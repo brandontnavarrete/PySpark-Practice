{
 "cells": [
  {
   "cell_type": "markdown",
   "id": "f49113d4",
   "metadata": {},
   "source": [
    "# imports"
   ]
  },
  {
   "cell_type": "code",
   "execution_count": 2,
   "id": "ccd7b8aa",
   "metadata": {},
   "outputs": [],
   "source": [
    "import pyspark\n",
    "from pyspark.sql import SparkSession"
   ]
  },
  {
   "cell_type": "markdown",
   "id": "e67053d4",
   "metadata": {},
   "source": [
    "# session"
   ]
  },
  {
   "cell_type": "code",
   "execution_count": 4,
   "id": "9abb4014",
   "metadata": {
    "scrolled": true
   },
   "outputs": [
    {
     "name": "stderr",
     "output_type": "stream",
     "text": [
      "Setting default log level to \"WARN\".\n",
      "To adjust logging level use sc.setLogLevel(newLevel). For SparkR, use setLogLevel(newLevel).\n"
     ]
    },
    {
     "name": "stdout",
     "output_type": "stream",
     "text": [
      "23/04/22 22:49:01 WARN NativeCodeLoader: Unable to load native-hadoop library for your platform... using builtin-java classes where applicable\n",
      "23/04/22 22:49:02 WARN Utils: Service 'SparkUI' could not bind on port 4040. Attempting port 4041.\n"
     ]
    }
   ],
   "source": [
    "spark = SparkSession.builder.appName('practice').getOrCreate()"
   ]
  },
  {
   "cell_type": "markdown",
   "id": "d31bdc1e",
   "metadata": {},
   "source": [
    "# data"
   ]
  },
  {
   "cell_type": "code",
   "execution_count": 6,
   "id": "9d775d0f",
   "metadata": {},
   "outputs": [],
   "source": [
    "#                                                        #infer schema prevent all values automatically taking 'string' values\n",
    "df = spark.read.option('header','true').csv('data.csv', inferSchema= True)"
   ]
  },
  {
   "cell_type": "code",
   "execution_count": 8,
   "id": "4446dd22",
   "metadata": {},
   "outputs": [
    {
     "name": "stdout",
     "output_type": "stream",
     "text": [
      "+-------+----+------+---------+\n",
      "|Country| Age|Salary|Purchased|\n",
      "+-------+----+------+---------+\n",
      "| France|  44| 72000|       No|\n",
      "|  Spain|  27| 48000|      Yes|\n",
      "|Germany|  30| 54000|       No|\n",
      "|  Spain|  38| 61000|       No|\n",
      "|Germany|  40|  null|      Yes|\n",
      "| France|  35| 58000|      Yes|\n",
      "|  Spain|null| 52000|       No|\n",
      "| France|  48| 79000|      Yes|\n",
      "|Germany|  50| 83000|       No|\n",
      "| France|  37| 67000|      Yes|\n",
      "+-------+----+------+---------+\n",
      "\n"
     ]
    }
   ],
   "source": [
    "df.show()"
   ]
  },
  {
   "cell_type": "markdown",
   "id": "f877f597",
   "metadata": {},
   "source": [
    "# Filter Operations"
   ]
  },
  {
   "cell_type": "markdown",
   "id": "e53b7048",
   "metadata": {},
   "source": [
    "# Conditional"
   ]
  },
  {
   "cell_type": "code",
   "execution_count": 12,
   "id": "e530adea",
   "metadata": {},
   "outputs": [],
   "source": [
    "# people age less than or = 45"
   ]
  },
  {
   "cell_type": "code",
   "execution_count": 16,
   "id": "07d4e558",
   "metadata": {},
   "outputs": [
    {
     "name": "stdout",
     "output_type": "stream",
     "text": [
      "+-------+---+------+---------+\n",
      "|Country|Age|Salary|Purchased|\n",
      "+-------+---+------+---------+\n",
      "|  Spain| 27| 48000|      Yes|\n",
      "|Germany| 30| 54000|       No|\n",
      "+-------+---+------+---------+\n",
      "\n"
     ]
    }
   ],
   "source": [
    "# numerical filter\n",
    "df.filter(\"Age <= 30\").show()"
   ]
  },
  {
   "cell_type": "code",
   "execution_count": 19,
   "id": "a4755e9c",
   "metadata": {},
   "outputs": [
    {
     "name": "stdout",
     "output_type": "stream",
     "text": [
      "+-------+----+------+---------+\n",
      "|Country| Age|Salary|Purchased|\n",
      "+-------+----+------+---------+\n",
      "|  Spain|  27| 48000|      Yes|\n",
      "|  Spain|  38| 61000|       No|\n",
      "|  Spain|null| 52000|       No|\n",
      "+-------+----+------+---------+\n",
      "\n"
     ]
    }
   ],
   "source": [
    "# string filter\n",
    "df.filter(\"Country = 'Spain'\").show()"
   ]
  },
  {
   "cell_type": "markdown",
   "id": "8dd904b4",
   "metadata": {},
   "source": [
    "# multi-conditional"
   ]
  },
  {
   "cell_type": "code",
   "execution_count": 58,
   "id": "535c5e5c",
   "metadata": {},
   "outputs": [
    {
     "name": "stdout",
     "output_type": "stream",
     "text": [
      "+-------+---+------+---------+\n",
      "|Country|Age|Salary|Purchased|\n",
      "+-------+---+------+---------+\n",
      "|  Spain| 27| 48000|      Yes|\n",
      "+-------+---+------+---------+\n",
      "\n"
     ]
    }
   ],
   "source": [
    "df.filter((df[\"Age\"]<=30) &\n",
    "          (df['Salary']== 48000)).show()"
   ]
  },
  {
   "cell_type": "code",
   "execution_count": 57,
   "id": "582413fd",
   "metadata": {},
   "outputs": [
    {
     "name": "stdout",
     "output_type": "stream",
     "text": [
      "+-------+---+------+---------+\n",
      "|Country|Age|Salary|Purchased|\n",
      "+-------+---+------+---------+\n",
      "|  Spain| 27| 48000|      Yes|\n",
      "|Germany| 30| 54000|       No|\n",
      "+-------+---+------+---------+\n",
      "\n"
     ]
    }
   ],
   "source": [
    "df.filter((df[\"Age\"]<=30) |\n",
    "          (df['Salary']== 48000)).show()"
   ]
  },
  {
   "cell_type": "markdown",
   "id": "2d114fb1",
   "metadata": {},
   "source": [
    "# masking"
   ]
  },
  {
   "cell_type": "code",
   "execution_count": 59,
   "id": "04f35c5f",
   "metadata": {},
   "outputs": [
    {
     "name": "stdout",
     "output_type": "stream",
     "text": [
      "+----+------+\n",
      "| Age|Salary|\n",
      "+----+------+\n",
      "|  27| 48000|\n",
      "|  38| 61000|\n",
      "|null| 52000|\n",
      "+----+------+\n",
      "\n"
     ]
    }
   ],
   "source": [
    "df.filter(\"Country = 'Spain'\").select([\"Age\",\"Salary\"]).show()"
   ]
  },
  {
   "cell_type": "markdown",
   "id": "9314f0f7",
   "metadata": {},
   "source": [
    "# not operand"
   ]
  },
  {
   "cell_type": "code",
   "execution_count": 68,
   "id": "3ee8da26",
   "metadata": {},
   "outputs": [
    {
     "name": "stdout",
     "output_type": "stream",
     "text": [
      "+-------+---+------+---------+\n",
      "|Country|Age|Salary|Purchased|\n",
      "+-------+---+------+---------+\n",
      "| France| 44| 72000|       No|\n",
      "|Germany| 30| 54000|       No|\n",
      "|Germany| 40|  null|      Yes|\n",
      "| France| 35| 58000|      Yes|\n",
      "| France| 48| 79000|      Yes|\n",
      "|Germany| 50| 83000|       No|\n",
      "| France| 37| 67000|      Yes|\n",
      "+-------+---+------+---------+\n",
      "\n"
     ]
    }
   ],
   "source": [
    "# Not = to Spain\n",
    "df.filter(~(df[\"Country\"] == 'Spain')).show()"
   ]
  },
  {
   "cell_type": "code",
   "execution_count": null,
   "id": "5bd71896",
   "metadata": {},
   "outputs": [],
   "source": []
  },
  {
   "cell_type": "code",
   "execution_count": null,
   "id": "2cb510b1",
   "metadata": {},
   "outputs": [],
   "source": []
  },
  {
   "cell_type": "code",
   "execution_count": null,
   "id": "6837733b",
   "metadata": {},
   "outputs": [],
   "source": []
  },
  {
   "cell_type": "code",
   "execution_count": null,
   "id": "38e3b8fd",
   "metadata": {},
   "outputs": [],
   "source": []
  }
 ],
 "metadata": {
  "kernelspec": {
   "display_name": "Python 3 (ipykernel)",
   "language": "python",
   "name": "python3"
  },
  "language_info": {
   "codemirror_mode": {
    "name": "ipython",
    "version": 3
   },
   "file_extension": ".py",
   "mimetype": "text/x-python",
   "name": "python",
   "nbconvert_exporter": "python",
   "pygments_lexer": "ipython3",
   "version": "3.9.13"
  }
 },
 "nbformat": 4,
 "nbformat_minor": 5
}
