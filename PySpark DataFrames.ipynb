{
 "cells": [
  {
   "cell_type": "markdown",
   "id": "90abf748",
   "metadata": {},
   "source": [
    "# import "
   ]
  },
  {
   "cell_type": "code",
   "execution_count": 1,
   "id": "7037b8d6",
   "metadata": {},
   "outputs": [],
   "source": [
    "import pyspark"
   ]
  },
  {
   "cell_type": "markdown",
   "id": "4f19bc22",
   "metadata": {},
   "source": [
    "# Session"
   ]
  },
  {
   "cell_type": "code",
   "execution_count": 2,
   "id": "fb3baa54",
   "metadata": {},
   "outputs": [],
   "source": [
    "# imports for session\n",
    "from pyspark.sql import SparkSession"
   ]
  },
  {
   "cell_type": "code",
   "execution_count": 3,
   "id": "9cc69650",
   "metadata": {},
   "outputs": [
    {
     "name": "stderr",
     "output_type": "stream",
     "text": [
      "Setting default log level to \"WARN\".\n",
      "To adjust logging level use sc.setLogLevel(newLevel). For SparkR, use setLogLevel(newLevel).\n"
     ]
    },
    {
     "name": "stdout",
     "output_type": "stream",
     "text": [
      "23/04/21 00:53:56 WARN NativeCodeLoader: Unable to load native-hadoop library for your platform... using builtin-java classes where applicable\n",
      "23/04/21 00:53:59 WARN Utils: Service 'SparkUI' could not bind on port 4040. Attempting port 4041.\n"
     ]
    }
   ],
   "source": [
    "# creating session\n",
    "spark = SparkSession.builder.appName('practice').getOrCreate()"
   ]
  },
  {
   "cell_type": "code",
   "execution_count": 4,
   "id": "91903608",
   "metadata": {},
   "outputs": [
    {
     "data": {
      "text/html": [
       "\n",
       "            <div>\n",
       "                <p><b>SparkSession - in-memory</b></p>\n",
       "                \n",
       "        <div>\n",
       "            <p><b>SparkContext</b></p>\n",
       "\n",
       "            <p><a href=\"http://192.168.1.42:4041\">Spark UI</a></p>\n",
       "\n",
       "            <dl>\n",
       "              <dt>Version</dt>\n",
       "                <dd><code>v3.3.2</code></dd>\n",
       "              <dt>Master</dt>\n",
       "                <dd><code>local[*]</code></dd>\n",
       "              <dt>AppName</dt>\n",
       "                <dd><code>practice</code></dd>\n",
       "            </dl>\n",
       "        </div>\n",
       "        \n",
       "            </div>\n",
       "        "
      ],
      "text/plain": [
       "<pyspark.sql.session.SparkSession at 0x7fe955b3e880>"
      ]
     },
     "execution_count": 4,
     "metadata": {},
     "output_type": "execute_result"
    }
   ],
   "source": [
    "spark"
   ]
  },
  {
   "cell_type": "markdown",
   "id": "c9b776f6",
   "metadata": {},
   "source": [
    "# Dataset"
   ]
  },
  {
   "cell_type": "code",
   "execution_count": 5,
   "id": "1ff9d487",
   "metadata": {},
   "outputs": [],
   "source": [
    "#                                                        #infer schema prevent all values automatically taking 'string' values\n",
    "dfs = spark.read.option('header','true').csv('data.csv', inferSchema= True)"
   ]
  },
  {
   "cell_type": "markdown",
   "id": "7fa6c685",
   "metadata": {},
   "source": [
    "# PySpark Dataframes"
   ]
  },
  {
   "cell_type": "code",
   "execution_count": 6,
   "id": "35074b5d",
   "metadata": {},
   "outputs": [
    {
     "name": "stdout",
     "output_type": "stream",
     "text": [
      "+-------+----+------+---------+\n",
      "|Country| Age|Salary|Purchased|\n",
      "+-------+----+------+---------+\n",
      "| France|  44| 72000|       No|\n",
      "|  Spain|  27| 48000|      Yes|\n",
      "|Germany|  30| 54000|       No|\n",
      "|  Spain|  38| 61000|       No|\n",
      "|Germany|  40|  null|      Yes|\n",
      "| France|  35| 58000|      Yes|\n",
      "|  Spain|null| 52000|       No|\n",
      "| France|  48| 79000|      Yes|\n",
      "|Germany|  50| 83000|       No|\n",
      "| France|  37| 67000|      Yes|\n",
      "+-------+----+------+---------+\n",
      "\n"
     ]
    }
   ],
   "source": [
    "dfs.show()"
   ]
  },
  {
   "cell_type": "markdown",
   "id": "b71b3a6f",
   "metadata": {},
   "source": [
    "# Data Types"
   ]
  },
  {
   "cell_type": "code",
   "execution_count": 7,
   "id": "796633e9",
   "metadata": {},
   "outputs": [
    {
     "name": "stdout",
     "output_type": "stream",
     "text": [
      "root\n",
      " |-- Country: string (nullable = true)\n",
      " |-- Age: integer (nullable = true)\n",
      " |-- Salary: integer (nullable = true)\n",
      " |-- Purchased: string (nullable = true)\n",
      "\n"
     ]
    }
   ],
   "source": [
    "# look at schema / dataframe\n",
    "dfs.printSchema()"
   ]
  },
  {
   "cell_type": "code",
   "execution_count": 8,
   "id": "475c4080",
   "metadata": {},
   "outputs": [
    {
     "data": {
      "text/plain": [
       "[('Country', 'string'),\n",
       " ('Age', 'int'),\n",
       " ('Salary', 'int'),\n",
       " ('Purchased', 'string')]"
      ]
     },
     "execution_count": 8,
     "metadata": {},
     "output_type": "execute_result"
    }
   ],
   "source": [
    "dfs.dtypes"
   ]
  },
  {
   "cell_type": "markdown",
   "id": "68f4603b",
   "metadata": {},
   "source": [
    "## another method"
   ]
  },
  {
   "cell_type": "code",
   "execution_count": 9,
   "id": "d52b4c01",
   "metadata": {},
   "outputs": [],
   "source": [
    "# similar output\n",
    "dfs=spark.read.csv('data.csv',header=True,inferSchema=True)"
   ]
  },
  {
   "cell_type": "markdown",
   "id": "8d43648d",
   "metadata": {},
   "source": [
    "# columns and indexing"
   ]
  },
  {
   "cell_type": "code",
   "execution_count": 10,
   "id": "305658f0",
   "metadata": {},
   "outputs": [
    {
     "data": {
      "text/plain": [
       "['Country', 'Age', 'Salary', 'Purchased']"
      ]
     },
     "execution_count": 10,
     "metadata": {},
     "output_type": "execute_result"
    }
   ],
   "source": [
    "dfs.columns"
   ]
  },
  {
   "cell_type": "code",
   "execution_count": 11,
   "id": "44d9cbee",
   "metadata": {},
   "outputs": [
    {
     "data": {
      "text/plain": [
       "[Row(Country='France', Age=44, Salary=72000, Purchased='No'),\n",
       " Row(Country='Spain', Age=27, Salary=48000, Purchased='Yes'),\n",
       " Row(Country='Germany', Age=30, Salary=54000, Purchased='No')]"
      ]
     },
     "execution_count": 11,
     "metadata": {},
     "output_type": "execute_result"
    }
   ],
   "source": [
    "dfs.head(3)"
   ]
  },
  {
   "cell_type": "code",
   "execution_count": 12,
   "id": "f078f474",
   "metadata": {},
   "outputs": [
    {
     "data": {
      "text/plain": [
       "DataFrame[Age: int]"
      ]
     },
     "execution_count": 12,
     "metadata": {},
     "output_type": "execute_result"
    }
   ],
   "source": [
    "# select, instruction\n",
    "dfs.select('Age')"
   ]
  },
  {
   "cell_type": "code",
   "execution_count": 13,
   "id": "46b3c9db",
   "metadata": {},
   "outputs": [
    {
     "name": "stdout",
     "output_type": "stream",
     "text": [
      "+----+\n",
      "| Age|\n",
      "+----+\n",
      "|  44|\n",
      "|  27|\n",
      "|  30|\n",
      "|  38|\n",
      "|  40|\n",
      "|  35|\n",
      "|null|\n",
      "|  48|\n",
      "|  50|\n",
      "|  37|\n",
      "+----+\n",
      "\n"
     ]
    }
   ],
   "source": [
    "# select, then action.\n",
    "dfs.select('Age').show()"
   ]
  },
  {
   "cell_type": "code",
   "execution_count": 14,
   "id": "7c1cea91",
   "metadata": {},
   "outputs": [
    {
     "data": {
      "text/plain": [
       "DataFrame[Age: int]"
      ]
     },
     "execution_count": 14,
     "metadata": {},
     "output_type": "execute_result"
    }
   ],
   "source": [
    "dfs.select('Age')"
   ]
  },
  {
   "cell_type": "markdown",
   "id": "eda68c6d",
   "metadata": {},
   "source": [
    "## multi cols"
   ]
  },
  {
   "cell_type": "code",
   "execution_count": 15,
   "id": "0e344edd",
   "metadata": {},
   "outputs": [
    {
     "name": "stdout",
     "output_type": "stream",
     "text": [
      "+----+-------+\n",
      "| Age|Country|\n",
      "+----+-------+\n",
      "|  44| France|\n",
      "|  27|  Spain|\n",
      "|  30|Germany|\n",
      "|  38|  Spain|\n",
      "|  40|Germany|\n",
      "|  35| France|\n",
      "|null|  Spain|\n",
      "|  48| France|\n",
      "|  50|Germany|\n",
      "|  37| France|\n",
      "+----+-------+\n",
      "\n"
     ]
    }
   ],
   "source": [
    "# select, instruction\n",
    "dfs.select(['Age','Country']).show()"
   ]
  },
  {
   "cell_type": "code",
   "execution_count": null,
   "id": "a14b9135",
   "metadata": {},
   "outputs": [],
   "source": []
  },
  {
   "cell_type": "markdown",
   "id": "7bb5e826",
   "metadata": {},
   "source": [
    "# describe"
   ]
  },
  {
   "cell_type": "code",
   "execution_count": 16,
   "id": "0140b18a",
   "metadata": {},
   "outputs": [
    {
     "data": {
      "text/plain": [
       "DataFrame[summary: string, Country: string, Age: string, Salary: string, Purchased: string]"
      ]
     },
     "execution_count": 16,
     "metadata": {},
     "output_type": "execute_result"
    }
   ],
   "source": [
    "dfs.describe()"
   ]
  },
  {
   "cell_type": "code",
   "execution_count": 17,
   "id": "e4564548",
   "metadata": {},
   "outputs": [
    {
     "name": "stdout",
     "output_type": "stream",
     "text": [
      "+-------+-------+-----------------+------------------+---------+\n",
      "|summary|Country|              Age|            Salary|Purchased|\n",
      "+-------+-------+-----------------+------------------+---------+\n",
      "|  count|     10|                9|                 9|       10|\n",
      "|   mean|   null|38.77777777777778| 63777.77777777778|     null|\n",
      "| stddev|   null|7.693792591722529|12265.579661982732|     null|\n",
      "|    min| France|               27|             48000|       No|\n",
      "|    max|  Spain|               50|             83000|      Yes|\n",
      "+-------+-------+-----------------+------------------+---------+\n",
      "\n"
     ]
    }
   ],
   "source": [
    "# giving numerical data based on column info\n",
    "dfs.describe().show()"
   ]
  },
  {
   "cell_type": "markdown",
   "id": "f52e16e5",
   "metadata": {},
   "source": [
    "# adding cols"
   ]
  },
  {
   "cell_type": "code",
   "execution_count": 18,
   "id": "49b5824c",
   "metadata": {},
   "outputs": [],
   "source": [
    "# add col based on other columns with math add# \n",
    "dfs = dfs.withColumn('Age After 2 years', dfs.Age + 2)"
   ]
  },
  {
   "cell_type": "code",
   "execution_count": 19,
   "id": "8d903b7e",
   "metadata": {},
   "outputs": [
    {
     "name": "stdout",
     "output_type": "stream",
     "text": [
      "+-------+----+------+---------+-----------------+\n",
      "|Country| Age|Salary|Purchased|Age After 2 years|\n",
      "+-------+----+------+---------+-----------------+\n",
      "| France|  44| 72000|       No|               46|\n",
      "|  Spain|  27| 48000|      Yes|               29|\n",
      "|Germany|  30| 54000|       No|               32|\n",
      "|  Spain|  38| 61000|       No|               40|\n",
      "|Germany|  40|  null|      Yes|               42|\n",
      "| France|  35| 58000|      Yes|               37|\n",
      "|  Spain|null| 52000|       No|             null|\n",
      "| France|  48| 79000|      Yes|               50|\n",
      "|Germany|  50| 83000|       No|               52|\n",
      "| France|  37| 67000|      Yes|               39|\n",
      "+-------+----+------+---------+-----------------+\n",
      "\n"
     ]
    }
   ],
   "source": [
    "dfs.show()"
   ]
  },
  {
   "cell_type": "markdown",
   "id": "d5f5b12b",
   "metadata": {},
   "source": [
    "# dropping cols"
   ]
  },
  {
   "cell_type": "code",
   "execution_count": 20,
   "id": "29785d73",
   "metadata": {},
   "outputs": [],
   "source": [
    "# drop col\n",
    "dfs = dfs.drop('Age After 2 years')"
   ]
  },
  {
   "cell_type": "markdown",
   "id": "2740e12d",
   "metadata": {},
   "source": [
    "# rename"
   ]
  },
  {
   "cell_type": "code",
   "execution_count": 21,
   "id": "2e99c382",
   "metadata": {},
   "outputs": [
    {
     "name": "stdout",
     "output_type": "stream",
     "text": [
      "+-------+----+-----+---------+\n",
      "|Country| Age|  sal|Purchased|\n",
      "+-------+----+-----+---------+\n",
      "| France|  44|72000|       No|\n",
      "|  Spain|  27|48000|      Yes|\n",
      "|Germany|  30|54000|       No|\n",
      "|  Spain|  38|61000|       No|\n",
      "|Germany|  40| null|      Yes|\n",
      "| France|  35|58000|      Yes|\n",
      "|  Spain|null|52000|       No|\n",
      "| France|  48|79000|      Yes|\n",
      "|Germany|  50|83000|       No|\n",
      "| France|  37|67000|      Yes|\n",
      "+-------+----+-----+---------+\n",
      "\n"
     ]
    }
   ],
   "source": [
    "dfs.withColumnRenamed('Salary','sal').show()"
   ]
  },
  {
   "cell_type": "markdown",
   "id": "7db0ac61",
   "metadata": {},
   "source": [
    "# handling missing values"
   ]
  },
  {
   "cell_type": "code",
   "execution_count": 22,
   "id": "4ebb487e",
   "metadata": {},
   "outputs": [
    {
     "name": "stdout",
     "output_type": "stream",
     "text": [
      "+-------+---+------+---------+\n",
      "|Country|Age|Salary|Purchased|\n",
      "+-------+---+------+---------+\n",
      "| France| 44| 72000|       No|\n",
      "|  Spain| 27| 48000|      Yes|\n",
      "|Germany| 30| 54000|       No|\n",
      "|  Spain| 38| 61000|       No|\n",
      "| France| 35| 58000|      Yes|\n",
      "| France| 48| 79000|      Yes|\n",
      "|Germany| 50| 83000|       No|\n",
      "| France| 37| 67000|      Yes|\n",
      "+-------+---+------+---------+\n",
      "\n"
     ]
    }
   ],
   "source": [
    "# drop where null\n",
    "dfs.na.drop().show()"
   ]
  },
  {
   "cell_type": "code",
   "execution_count": 23,
   "id": "71e1fa9c",
   "metadata": {},
   "outputs": [
    {
     "name": "stdout",
     "output_type": "stream",
     "text": [
      "+-------+---+------+---------+\n",
      "|Country|Age|Salary|Purchased|\n",
      "+-------+---+------+---------+\n",
      "| France| 44| 72000|       No|\n",
      "|  Spain| 27| 48000|      Yes|\n",
      "|Germany| 30| 54000|       No|\n",
      "|  Spain| 38| 61000|       No|\n",
      "| France| 35| 58000|      Yes|\n",
      "| France| 48| 79000|      Yes|\n",
      "|Germany| 50| 83000|       No|\n",
      "| France| 37| 67000|      Yes|\n",
      "+-------+---+------+---------+\n",
      "\n"
     ]
    }
   ],
   "source": [
    "# drop where null\n",
    "# how (any and all)\n",
    "dfs.na.drop(how = 'any').show()"
   ]
  },
  {
   "cell_type": "code",
   "execution_count": 29,
   "id": "35ac24a9",
   "metadata": {},
   "outputs": [
    {
     "name": "stdout",
     "output_type": "stream",
     "text": [
      "+-------+----+------+---------+\n",
      "|Country| Age|Salary|Purchased|\n",
      "+-------+----+------+---------+\n",
      "| France|  44| 72000|       No|\n",
      "|  Spain|  27| 48000|      Yes|\n",
      "|Germany|  30| 54000|       No|\n",
      "|  Spain|  38| 61000|       No|\n",
      "|Germany|  40|  null|      Yes|\n",
      "| France|  35| 58000|      Yes|\n",
      "|  Spain|null| 52000|       No|\n",
      "| France|  48| 79000|      Yes|\n",
      "|Germany|  50| 83000|       No|\n",
      "| France|  37| 67000|      Yes|\n",
      "+-------+----+------+---------+\n",
      "\n"
     ]
    }
   ],
   "source": [
    "# all least 2 null values should be present.\n",
    "dfs.na.drop(how = 'any', thresh = 2).show()"
   ]
  },
  {
   "cell_type": "code",
   "execution_count": 25,
   "id": "47353ea1",
   "metadata": {},
   "outputs": [
    {
     "name": "stdout",
     "output_type": "stream",
     "text": [
      "+-------+----+------+---------+\n",
      "|Country| Age|Salary|Purchased|\n",
      "+-------+----+------+---------+\n",
      "| France|  44| 72000|       No|\n",
      "|  Spain|  27| 48000|      Yes|\n",
      "|Germany|  30| 54000|       No|\n",
      "|  Spain|  38| 61000|       No|\n",
      "| France|  35| 58000|      Yes|\n",
      "|  Spain|null| 52000|       No|\n",
      "| France|  48| 79000|      Yes|\n",
      "|Germany|  50| 83000|       No|\n",
      "| France|  37| 67000|      Yes|\n",
      "+-------+----+------+---------+\n",
      "\n"
     ]
    }
   ],
   "source": [
    "# subset, drop from specific column\n",
    "dfs.na.drop(subset = 'Salary').show()"
   ]
  },
  {
   "cell_type": "markdown",
   "id": "ff15bf6f",
   "metadata": {},
   "source": [
    "## drop cols"
   ]
  },
  {
   "cell_type": "code",
   "execution_count": 26,
   "id": "9b2a7207",
   "metadata": {},
   "outputs": [
    {
     "name": "stdout",
     "output_type": "stream",
     "text": [
      "+-------+------+---------+\n",
      "|Country|Salary|Purchased|\n",
      "+-------+------+---------+\n",
      "| France| 72000|       No|\n",
      "|  Spain| 48000|      Yes|\n",
      "|Germany| 54000|       No|\n",
      "|  Spain| 61000|       No|\n",
      "|Germany|  null|      Yes|\n",
      "| France| 58000|      Yes|\n",
      "|  Spain| 52000|       No|\n",
      "| France| 79000|      Yes|\n",
      "|Germany| 83000|       No|\n",
      "| France| 67000|      Yes|\n",
      "+-------+------+---------+\n",
      "\n"
     ]
    }
   ],
   "source": [
    "dfs.drop('Age').show()"
   ]
  },
  {
   "cell_type": "code",
   "execution_count": 27,
   "id": "ada3a03b",
   "metadata": {},
   "outputs": [
    {
     "name": "stdout",
     "output_type": "stream",
     "text": [
      "+-------+------+---------+\n",
      "|Country|Salary|Purchased|\n",
      "+-------+------+---------+\n",
      "| France| 72000|       No|\n",
      "|  Spain| 48000|      Yes|\n",
      "|Germany| 54000|       No|\n",
      "|  Spain| 61000|       No|\n",
      "|Germany|  null|      Yes|\n",
      "| France| 58000|      Yes|\n",
      "|  Spain| 52000|       No|\n",
      "| France| 79000|      Yes|\n",
      "|Germany| 83000|       No|\n",
      "| France| 67000|      Yes|\n",
      "+-------+------+---------+\n",
      "\n"
     ]
    }
   ],
   "source": [
    "dfs.drop('Age').show()"
   ]
  },
  {
   "cell_type": "markdown",
   "id": "76c7c988",
   "metadata": {},
   "source": [
    "## handle missing values by mean, med, and mode..."
   ]
  },
  {
   "cell_type": "code",
   "execution_count": 28,
   "id": "3848a7e6",
   "metadata": {},
   "outputs": [
    {
     "name": "stdout",
     "output_type": "stream",
     "text": [
      "+-------+----+------+---------+\n",
      "|Country| Age|Salary|Purchased|\n",
      "+-------+----+------+---------+\n",
      "| France|  44| 72000|       No|\n",
      "|  Spain|  27| 48000|      Yes|\n",
      "|Germany|  30| 54000|       No|\n",
      "|  Spain|  38| 61000|       No|\n",
      "|Germany|  40|  null|      Yes|\n",
      "| France|  35| 58000|      Yes|\n",
      "|  Spain|null| 52000|       No|\n",
      "| France|  48| 79000|      Yes|\n",
      "|Germany|  50| 83000|       No|\n",
      "| France|  37| 67000|      Yes|\n",
      "+-------+----+------+---------+\n",
      "\n"
     ]
    }
   ],
   "source": [
    "dfs.na.fill('missing').show()"
   ]
  },
  {
   "cell_type": "markdown",
   "id": "3fe9ac44",
   "metadata": {},
   "source": [
    "# mean"
   ]
  },
  {
   "cell_type": "code",
   "execution_count": 31,
   "id": "fc83c90f",
   "metadata": {},
   "outputs": [],
   "source": [
    "from pyspark.ml.feature import Imputer"
   ]
  },
  {
   "cell_type": "code",
   "execution_count": null,
   "id": "05c9cdca",
   "metadata": {},
   "outputs": [],
   "source": []
  }
 ],
 "metadata": {
  "kernelspec": {
   "display_name": "Python 3 (ipykernel)",
   "language": "python",
   "name": "python3"
  },
  "language_info": {
   "codemirror_mode": {
    "name": "ipython",
    "version": 3
   },
   "file_extension": ".py",
   "mimetype": "text/x-python",
   "name": "python",
   "nbconvert_exporter": "python",
   "pygments_lexer": "ipython3",
   "version": "3.9.13"
  }
 },
 "nbformat": 4,
 "nbformat_minor": 5
}
